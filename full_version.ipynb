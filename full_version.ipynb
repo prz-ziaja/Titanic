{
 "cells": [
  {
   "cell_type": "raw",
   "metadata": {},
   "source": [
    "Library import\n",
    "Data reading"
   ]
  },
  {
   "cell_type": "code",
   "execution_count": 1,
   "metadata": {},
   "outputs": [],
   "source": [
    "import pandas as pd, numpy as np, matplotlib.pyplot as plt\n",
    "import warnings\n",
    "warnings.filterwarnings('ignore')"
   ]
  },
  {
   "cell_type": "code",
   "execution_count": 2,
   "metadata": {},
   "outputs": [],
   "source": [
    "tt=pd.read_csv(\"./train.csv\")"
   ]
  },
  {
   "cell_type": "raw",
   "metadata": {},
   "source": [
    "Summing up the data content"
   ]
  },
  {
   "cell_type": "code",
   "execution_count": 3,
   "metadata": {},
   "outputs": [
    {
     "data": {
      "text/plain": [
       "PassengerId      0\n",
       "Survived         0\n",
       "Pclass           0\n",
       "Name             0\n",
       "Sex              0\n",
       "Age            177\n",
       "SibSp            0\n",
       "Parch            0\n",
       "Ticket           0\n",
       "Fare             0\n",
       "Cabin          687\n",
       "Embarked         2\n",
       "dtype: int64"
      ]
     },
     "execution_count": 3,
     "metadata": {},
     "output_type": "execute_result"
    }
   ],
   "source": [
    "tt.isnull().sum()#missing values"
   ]
  },
  {
   "cell_type": "code",
   "execution_count": 4,
   "metadata": {},
   "outputs": [
    {
     "data": {
      "text/html": [
       "<div>\n",
       "<style scoped>\n",
       "    .dataframe tbody tr th:only-of-type {\n",
       "        vertical-align: middle;\n",
       "    }\n",
       "\n",
       "    .dataframe tbody tr th {\n",
       "        vertical-align: top;\n",
       "    }\n",
       "\n",
       "    .dataframe thead th {\n",
       "        text-align: right;\n",
       "    }\n",
       "</style>\n",
       "<table border=\"1\" class=\"dataframe\">\n",
       "  <thead>\n",
       "    <tr style=\"text-align: right;\">\n",
       "      <th></th>\n",
       "      <th>PassengerId</th>\n",
       "      <th>Survived</th>\n",
       "      <th>Pclass</th>\n",
       "      <th>Name</th>\n",
       "      <th>Sex</th>\n",
       "      <th>Age</th>\n",
       "      <th>SibSp</th>\n",
       "      <th>Parch</th>\n",
       "      <th>Ticket</th>\n",
       "      <th>Fare</th>\n",
       "      <th>Cabin</th>\n",
       "      <th>Embarked</th>\n",
       "    </tr>\n",
       "  </thead>\n",
       "  <tbody>\n",
       "    <tr>\n",
       "      <th>0</th>\n",
       "      <td>1</td>\n",
       "      <td>0</td>\n",
       "      <td>3</td>\n",
       "      <td>Braund, Mr. Owen Harris</td>\n",
       "      <td>male</td>\n",
       "      <td>22.0</td>\n",
       "      <td>1</td>\n",
       "      <td>0</td>\n",
       "      <td>A/5 21171</td>\n",
       "      <td>7.2500</td>\n",
       "      <td>NaN</td>\n",
       "      <td>S</td>\n",
       "    </tr>\n",
       "    <tr>\n",
       "      <th>1</th>\n",
       "      <td>2</td>\n",
       "      <td>1</td>\n",
       "      <td>1</td>\n",
       "      <td>Cumings, Mrs. John Bradley (Florence Briggs Th...</td>\n",
       "      <td>female</td>\n",
       "      <td>38.0</td>\n",
       "      <td>1</td>\n",
       "      <td>0</td>\n",
       "      <td>PC 17599</td>\n",
       "      <td>71.2833</td>\n",
       "      <td>C85</td>\n",
       "      <td>C</td>\n",
       "    </tr>\n",
       "    <tr>\n",
       "      <th>2</th>\n",
       "      <td>3</td>\n",
       "      <td>1</td>\n",
       "      <td>3</td>\n",
       "      <td>Heikkinen, Miss. Laina</td>\n",
       "      <td>female</td>\n",
       "      <td>26.0</td>\n",
       "      <td>0</td>\n",
       "      <td>0</td>\n",
       "      <td>STON/O2. 3101282</td>\n",
       "      <td>7.9250</td>\n",
       "      <td>NaN</td>\n",
       "      <td>S</td>\n",
       "    </tr>\n",
       "    <tr>\n",
       "      <th>3</th>\n",
       "      <td>4</td>\n",
       "      <td>1</td>\n",
       "      <td>1</td>\n",
       "      <td>Futrelle, Mrs. Jacques Heath (Lily May Peel)</td>\n",
       "      <td>female</td>\n",
       "      <td>35.0</td>\n",
       "      <td>1</td>\n",
       "      <td>0</td>\n",
       "      <td>113803</td>\n",
       "      <td>53.1000</td>\n",
       "      <td>C123</td>\n",
       "      <td>S</td>\n",
       "    </tr>\n",
       "    <tr>\n",
       "      <th>4</th>\n",
       "      <td>5</td>\n",
       "      <td>0</td>\n",
       "      <td>3</td>\n",
       "      <td>Allen, Mr. William Henry</td>\n",
       "      <td>male</td>\n",
       "      <td>35.0</td>\n",
       "      <td>0</td>\n",
       "      <td>0</td>\n",
       "      <td>373450</td>\n",
       "      <td>8.0500</td>\n",
       "      <td>NaN</td>\n",
       "      <td>S</td>\n",
       "    </tr>\n",
       "    <tr>\n",
       "      <th>...</th>\n",
       "      <td>...</td>\n",
       "      <td>...</td>\n",
       "      <td>...</td>\n",
       "      <td>...</td>\n",
       "      <td>...</td>\n",
       "      <td>...</td>\n",
       "      <td>...</td>\n",
       "      <td>...</td>\n",
       "      <td>...</td>\n",
       "      <td>...</td>\n",
       "      <td>...</td>\n",
       "      <td>...</td>\n",
       "    </tr>\n",
       "    <tr>\n",
       "      <th>886</th>\n",
       "      <td>887</td>\n",
       "      <td>0</td>\n",
       "      <td>2</td>\n",
       "      <td>Montvila, Rev. Juozas</td>\n",
       "      <td>male</td>\n",
       "      <td>27.0</td>\n",
       "      <td>0</td>\n",
       "      <td>0</td>\n",
       "      <td>211536</td>\n",
       "      <td>13.0000</td>\n",
       "      <td>NaN</td>\n",
       "      <td>S</td>\n",
       "    </tr>\n",
       "    <tr>\n",
       "      <th>887</th>\n",
       "      <td>888</td>\n",
       "      <td>1</td>\n",
       "      <td>1</td>\n",
       "      <td>Graham, Miss. Margaret Edith</td>\n",
       "      <td>female</td>\n",
       "      <td>19.0</td>\n",
       "      <td>0</td>\n",
       "      <td>0</td>\n",
       "      <td>112053</td>\n",
       "      <td>30.0000</td>\n",
       "      <td>B42</td>\n",
       "      <td>S</td>\n",
       "    </tr>\n",
       "    <tr>\n",
       "      <th>888</th>\n",
       "      <td>889</td>\n",
       "      <td>0</td>\n",
       "      <td>3</td>\n",
       "      <td>Johnston, Miss. Catherine Helen \"Carrie\"</td>\n",
       "      <td>female</td>\n",
       "      <td>NaN</td>\n",
       "      <td>1</td>\n",
       "      <td>2</td>\n",
       "      <td>W./C. 6607</td>\n",
       "      <td>23.4500</td>\n",
       "      <td>NaN</td>\n",
       "      <td>S</td>\n",
       "    </tr>\n",
       "    <tr>\n",
       "      <th>889</th>\n",
       "      <td>890</td>\n",
       "      <td>1</td>\n",
       "      <td>1</td>\n",
       "      <td>Behr, Mr. Karl Howell</td>\n",
       "      <td>male</td>\n",
       "      <td>26.0</td>\n",
       "      <td>0</td>\n",
       "      <td>0</td>\n",
       "      <td>111369</td>\n",
       "      <td>30.0000</td>\n",
       "      <td>C148</td>\n",
       "      <td>C</td>\n",
       "    </tr>\n",
       "    <tr>\n",
       "      <th>890</th>\n",
       "      <td>891</td>\n",
       "      <td>0</td>\n",
       "      <td>3</td>\n",
       "      <td>Dooley, Mr. Patrick</td>\n",
       "      <td>male</td>\n",
       "      <td>32.0</td>\n",
       "      <td>0</td>\n",
       "      <td>0</td>\n",
       "      <td>370376</td>\n",
       "      <td>7.7500</td>\n",
       "      <td>NaN</td>\n",
       "      <td>Q</td>\n",
       "    </tr>\n",
       "  </tbody>\n",
       "</table>\n",
       "<p>891 rows × 12 columns</p>\n",
       "</div>"
      ],
      "text/plain": [
       "     PassengerId  Survived  Pclass  \\\n",
       "0              1         0       3   \n",
       "1              2         1       1   \n",
       "2              3         1       3   \n",
       "3              4         1       1   \n",
       "4              5         0       3   \n",
       "..           ...       ...     ...   \n",
       "886          887         0       2   \n",
       "887          888         1       1   \n",
       "888          889         0       3   \n",
       "889          890         1       1   \n",
       "890          891         0       3   \n",
       "\n",
       "                                                  Name     Sex   Age  SibSp  \\\n",
       "0                              Braund, Mr. Owen Harris    male  22.0      1   \n",
       "1    Cumings, Mrs. John Bradley (Florence Briggs Th...  female  38.0      1   \n",
       "2                               Heikkinen, Miss. Laina  female  26.0      0   \n",
       "3         Futrelle, Mrs. Jacques Heath (Lily May Peel)  female  35.0      1   \n",
       "4                             Allen, Mr. William Henry    male  35.0      0   \n",
       "..                                                 ...     ...   ...    ...   \n",
       "886                              Montvila, Rev. Juozas    male  27.0      0   \n",
       "887                       Graham, Miss. Margaret Edith  female  19.0      0   \n",
       "888           Johnston, Miss. Catherine Helen \"Carrie\"  female   NaN      1   \n",
       "889                              Behr, Mr. Karl Howell    male  26.0      0   \n",
       "890                                Dooley, Mr. Patrick    male  32.0      0   \n",
       "\n",
       "     Parch            Ticket     Fare Cabin Embarked  \n",
       "0        0         A/5 21171   7.2500   NaN        S  \n",
       "1        0          PC 17599  71.2833   C85        C  \n",
       "2        0  STON/O2. 3101282   7.9250   NaN        S  \n",
       "3        0            113803  53.1000  C123        S  \n",
       "4        0            373450   8.0500   NaN        S  \n",
       "..     ...               ...      ...   ...      ...  \n",
       "886      0            211536  13.0000   NaN        S  \n",
       "887      0            112053  30.0000   B42        S  \n",
       "888      2        W./C. 6607  23.4500   NaN        S  \n",
       "889      0            111369  30.0000  C148        C  \n",
       "890      0            370376   7.7500   NaN        Q  \n",
       "\n",
       "[891 rows x 12 columns]"
      ]
     },
     "execution_count": 4,
     "metadata": {},
     "output_type": "execute_result"
    }
   ],
   "source": [
    "tt#a piece of dataset"
   ]
  },
  {
   "cell_type": "raw",
   "metadata": {},
   "source": [
    "Selecting features: class, sex,age,sibsp,parch,fare,embarked"
   ]
  },
  {
   "cell_type": "code",
   "execution_count": 5,
   "metadata": {},
   "outputs": [],
   "source": [
    "tx=tt.iloc[:,[2,4,5,6,7,9,11]]"
   ]
  },
  {
   "cell_type": "raw",
   "metadata": {},
   "source": [
    "encoding text features as numbers"
   ]
  },
  {
   "cell_type": "code",
   "execution_count": 6,
   "metadata": {},
   "outputs": [],
   "source": [
    "from sklearn.preprocessing import LabelEncoder, OneHotEncoder\n",
    "le = LabelEncoder()\n",
    "ohe = OneHotEncoder()"
   ]
  },
  {
   "cell_type": "code",
   "execution_count": 7,
   "metadata": {},
   "outputs": [
    {
     "name": "stdout",
     "output_type": "stream",
     "text": [
      "['female' 'male']\n"
     ]
    }
   ],
   "source": [
    "le.fit(tx['Sex'])\n",
    "print(le.classes_)\n",
    "tx['Sex'] = le.transform(tx['Sex'])"
   ]
  },
  {
   "cell_type": "code",
   "execution_count": 8,
   "metadata": {},
   "outputs": [],
   "source": [
    "sex=ohe.fit_transform(np.array([tx['Sex']]).T).toarray()\n",
    "tx['Female'] = sex[:,0]\n",
    "tx['Male'] = sex[:,1]\n",
    "tx.drop(\"Sex\", axis=1, inplace = True)\n",
    "del(sex)"
   ]
  },
  {
   "cell_type": "code",
   "execution_count": 9,
   "metadata": {},
   "outputs": [
    {
     "data": {
      "image/png": "[encoded data removed]",
      "text/plain": [
       "<Figure size 432x288 with 1 Axes>"
      ]
     },
     "metadata": {
      "needs_background": "light"
     },
     "output_type": "display_data"
    },
    {
     "name": "stdout",
     "output_type": "stream",
     "text": [
      "Number of Nan values in column Embarked:  2\n"
     ]
    }
   ],
   "source": [
    "plt.hist(tx['Embarked'][~tx['Embarked'].isnull()])\n",
    "plt.show()\n",
    "print('Number of Nan values in column Embarked: ' ,tx['Embarked'].isnull().sum())"
   ]
  },
  {
   "cell_type": "raw",
   "metadata": {},
   "source": [
    "Replacing missing values in 'embarked' column with S"
   ]
  },
  {
   "cell_type": "code",
   "execution_count": 10,
   "metadata": {},
   "outputs": [],
   "source": [
    "for i in range(tx['Embarked'].size):\n",
    "    if tx['Embarked'][i] not in ('S','C','Q'):\n",
    "        tx['Embarked'][i] = 'S'"
   ]
  },
  {
   "cell_type": "code",
   "execution_count": 11,
   "metadata": {},
   "outputs": [
    {
     "name": "stdout",
     "output_type": "stream",
     "text": [
      "['C' 'Q' 'S']\n"
     ]
    }
   ],
   "source": [
    "le.fit(tx['Embarked'])\n",
    "print(le.classes_)\n",
    "tx['Embarked'] = le.transform(tx['Embarked'])"
   ]
  },
  {
   "cell_type": "code",
   "execution_count": 12,
   "metadata": {},
   "outputs": [],
   "source": [
    "embarked=ohe.fit_transform(np.array([tx['Embarked']]).T).toarray()\n",
    "for i,j in zip(('C','Q','S'),range(3)):\n",
    "    tx[i] = embarked[:,j]\n",
    "tx.drop(\"Embarked\", axis=1, inplace = True)\n",
    "del(embarked)"
   ]
  },
  {
   "cell_type": "raw",
   "metadata": {},
   "source": [
    "Predicting age "
   ]
  },
  {
   "cell_type": "code",
   "execution_count": 13,
   "metadata": {},
   "outputs": [
    {
     "data": {
      "text/plain": [
       "PassengerId      0\n",
       "Pclass           0\n",
       "Name             0\n",
       "Sex              0\n",
       "Age             86\n",
       "SibSp            0\n",
       "Parch            0\n",
       "Ticket           0\n",
       "Fare             1\n",
       "Cabin          327\n",
       "Embarked         0\n",
       "dtype: int64"
      ]
     },
     "execution_count": 13,
     "metadata": {},
     "output_type": "execute_result"
    }
   ],
   "source": [
    "te=pd.read_csv(\"./test.csv\")\n",
    "te.isnull().sum()"
   ]
  },
  {
   "cell_type": "raw",
   "metadata": {},
   "source": [
    "Replacing missing values in 'Fare' column using mean\n",
    "Deleting not needed columns\n",
    "Encoding text data as number"
   ]
  },
  {
   "cell_type": "code",
   "execution_count": 14,
   "metadata": {},
   "outputs": [],
   "source": [
    "for i in range(te['Fare'].size):\n",
    "    if np.isnan(te['Fare'][i]):\n",
    "        te['Fare'][i]=te['Fare'].mean()\n",
    "        break"
   ]
  },
  {
   "cell_type": "code",
   "execution_count": 15,
   "metadata": {},
   "outputs": [],
   "source": [
    " for i in ('Cabin','PassengerId','Name','Ticket'):\n",
    "    te.drop(i,axis=1,inplace=True)"
   ]
  },
  {
   "cell_type": "code",
   "execution_count": 16,
   "metadata": {},
   "outputs": [
    {
     "name": "stdout",
     "output_type": "stream",
     "text": [
      "['female' 'male']\n"
     ]
    }
   ],
   "source": [
    "le.fit(te['Sex'])\n",
    "print(le.classes_)\n",
    "te['Sex'] = le.transform(te['Sex'])"
   ]
  },
  {
   "cell_type": "code",
   "execution_count": 17,
   "metadata": {},
   "outputs": [],
   "source": [
    "sex=ohe.fit_transform(np.array([te['Sex']]).T).toarray()\n",
    "te['Female'] = sex[:,0]\n",
    "te['Male'] = sex[:,1]\n",
    "te.drop(\"Sex\", axis=1, inplace = True)\n",
    "del(sex)"
   ]
  },
  {
   "cell_type": "code",
   "execution_count": 18,
   "metadata": {},
   "outputs": [
    {
     "name": "stdout",
     "output_type": "stream",
     "text": [
      "['C' 'Q' 'S']\n"
     ]
    }
   ],
   "source": [
    "le.fit(te['Embarked'])\n",
    "print(le.classes_)\n",
    "te['Embarked'] = le.transform(te['Embarked'])"
   ]
  },
  {
   "cell_type": "code",
   "execution_count": 19,
   "metadata": {},
   "outputs": [],
   "source": [
    "embarked=ohe.fit_transform(np.array([te['Embarked']]).T).toarray()\n",
    "for i,j in zip(('C','Q','S'),range(3)):\n",
    "    te[i] = embarked[:,j]\n",
    "te.drop(\"Embarked\", axis=1, inplace = True)\n",
    "del(embarked)"
   ]
  },
  {
   "cell_type": "raw",
   "metadata": {},
   "source": [
    "Dividing dataset into 2 parts with and without missing values in column 'age'"
   ]
  },
  {
   "cell_type": "code",
   "execution_count": 20,
   "metadata": {},
   "outputs": [],
   "source": [
    "tage=tx[tx['Age'].isnull()==False].values\n",
    "tage=np.vstack((tage,te[te['Age'].isnull()==False].values))\n",
    "Yage=tage[:,1]\n",
    "tage=np.delete(tage,1,1)\n",
    "nanage=tx[tx['Age'].isnull()].values\n",
    "nanage=np.delete(nanage,1,1)\n",
    "nanagete=te[te['Age'].isnull()].values\n",
    "nanagete=np.delete(nanagete,1,1)"
   ]
  },
  {
   "cell_type": "code",
   "execution_count": 21,
   "metadata": {
    "scrolled": true
   },
   "outputs": [],
   "source": [
    "from sklearn.model_selection import train_test_split\n",
    "xatr,xate,yatr,yate=train_test_split(tage,Yage,random_state=2)"
   ]
  },
  {
   "cell_type": "raw",
   "metadata": {},
   "source": [
    "Selecting best param alpha"
   ]
  },
  {
   "cell_type": "code",
   "execution_count": 22,
   "metadata": {},
   "outputs": [
    {
     "name": "stdout",
     "output_type": "stream",
     "text": [
      "[[0.         0.         0.        ]\n",
      " [0.         0.24891445 0.17178161]\n",
      " [0.1        0.24703474 0.17503652]\n",
      " [0.2        0.24267495 0.17638376]\n",
      " [0.3        0.24093726 0.17758478]\n",
      " [0.4        0.23849511 0.17813346]\n",
      " [0.5        0.23535676 0.17800565]\n",
      " [0.6        0.23151912 0.17719939]\n",
      " [0.7        0.22698465 0.17571637]\n",
      " [0.8        0.22345089 0.1744408 ]\n",
      " [0.9        0.22068459 0.17335499]\n",
      " [1.         0.21759284 0.17191605]\n",
      " [1.1        0.21417565 0.17012396]\n",
      " [1.2        0.21043302 0.16797874]\n",
      " [1.3        0.20636321 0.16547897]\n",
      " [1.4        0.20196941 0.1626272 ]\n",
      " [1.5        0.19782398 0.15968701]\n",
      " [1.6        0.19366553 0.15658941]\n",
      " [1.7        0.1892388  0.15322596]\n",
      " [1.8        0.18454378 0.14959665]\n",
      " [1.9        0.17958047 0.14570149]]\n"
     ]
    }
   ],
   "source": [
    "from sklearn.linear_model import Lasso\n",
    "from scipy.stats import skew\n",
    "pred=Lasso()\n",
    "sc=np.array([[0,0,0]])\n",
    "for a in np.arange(0,2,0.1):\n",
    "    pred.set_params(alpha=a)\n",
    "    pred.fit(xatr,yatr)\n",
    "    sc=np.vstack((sc,[a,pred.score(xatr,yatr),pred.score(xate,yate)]))\n",
    "print(sc)"
   ]
  },
  {
   "cell_type": "code",
   "execution_count": 23,
   "metadata": {},
   "outputs": [
    {
     "data": {
      "image/png": "[encoded data removed]",
      "text/plain": [
       "<Figure size 432x288 with 1 Axes>"
      ]
     },
     "metadata": {
      "needs_background": "light"
     },
     "output_type": "display_data"
    },
    {
     "data": {
      "image/png": "[encoded data removed]",
      "text/plain": [
       "<Figure size 432x288 with 1 Axes>"
      ]
     },
     "metadata": {
      "needs_background": "light"
     },
     "output_type": "display_data"
    },
    {
     "name": "stdout",
     "output_type": "stream",
     "text": [
      "Stats for known age mean:  29.69911764705882 \n",
      "std:  14.526497332334042 \n",
      "skweness:  0.38910778230082704\n",
      "Stats for predicted age mean:  27.240657687673686 \n",
      "std:  7.4865007052000205 \n",
      "skweness:  -0.8643353553476466\n"
     ]
    }
   ],
   "source": [
    "pred.set_params(alpha=0.4)\n",
    "pred.fit(xatr,yatr)\n",
    "page=pred.predict(nanage)\n",
    "page=np.abs(page)\n",
    "plt.hist(page,bins=10)\n",
    "plt.title(\"Predicted age histogram\")\n",
    "plt.show()\n",
    "plt.hist(tx['Age'],bins=10)\n",
    "plt.title(\"Known age histogram\")\n",
    "plt.show()\n",
    "print(\"Stats for known age mean: \",tx['Age'].mean(),\n",
    "      \"\\nstd: \",tx['Age'].std(),\n",
    "      \"\\nskweness: \",tx['Age'].skew())\n",
    "print(\"Stats for predicted age mean: \",np.mean(page),\n",
    "      \"\\nstd: \",np.std(page),\n",
    "      \"\\nskweness: \",skew(page))"
   ]
  },
  {
   "cell_type": "raw",
   "metadata": {},
   "source": [
    "Predicting missing values of age"
   ]
  },
  {
   "cell_type": "code",
   "execution_count": 24,
   "metadata": {},
   "outputs": [],
   "source": [
    "for i in page:\n",
    "    for j in range(tx['Age'].size):\n",
    "        if np.isnan(tx['Age'][j]):\n",
    "            tx['Age'][j]=i\n",
    "pagete=pred.predict(nanagete)\n",
    "for i in page:\n",
    "    for j in range(te['Age'].size):\n",
    "        if np.isnan(te['Age'][j]):\n",
    "            te['Age'][j]=i"
   ]
  },
  {
   "cell_type": "code",
   "execution_count": 25,
   "metadata": {},
   "outputs": [
    {
     "name": "stdout",
     "output_type": "stream",
     "text": [
      "training data:\n",
      " Pclass    0\n",
      "Age       0\n",
      "SibSp     0\n",
      "Parch     0\n",
      "Fare      0\n",
      "Female    0\n",
      "Male      0\n",
      "C         0\n",
      "Q         0\n",
      "S         0\n",
      "dtype: int64 \n",
      "test data:\n",
      " Pclass    0\n",
      "Age       0\n",
      "SibSp     0\n",
      "Parch     0\n",
      "Fare      0\n",
      "Female    0\n",
      "Male      0\n",
      "C         0\n",
      "Q         0\n",
      "S         0\n",
      "dtype: int64\n"
     ]
    }
   ],
   "source": [
    "print('training data:\\n',tx.isnull().sum(),'\\ntest data:\\n',te.isnull().sum())"
   ]
  },
  {
   "cell_type": "raw",
   "metadata": {},
   "source": [
    "Creating new features, if cabin is registered and martial status"
   ]
  },
  {
   "cell_type": "code",
   "execution_count": 26,
   "metadata": {},
   "outputs": [],
   "source": [
    "cab=pd.read_csv(\"./train.csv\")\n",
    "for i in range(cab['Cabin'].size):\n",
    "    try:\n",
    "        if np.isnan(cab['Cabin'][i]):\n",
    "            cab['Cabin'][i]=0\n",
    "    except:\n",
    "        cab['Cabin'][i]=1\n",
    "cab=cab['Cabin'].values\n",
    "tx[\"Cabin\"]=cab\n",
    "cab=pd.read_csv(\"./test.csv\")\n",
    "for i in range(cab['Cabin'].size):\n",
    "    try:\n",
    "        if np.isnan(cab['Cabin'][i]):\n",
    "            cab['Cabin'][i]=0\n",
    "    except:\n",
    "        cab['Cabin'][i]=1\n",
    "cab=cab['Cabin'].values\n",
    "te[\"Cabin\"]=cab"
   ]
  },
  {
   "cell_type": "code",
   "execution_count": 27,
   "metadata": {},
   "outputs": [],
   "source": [
    "tit=pd.read_csv(\"./train.csv\")\n",
    "arr=[]\n",
    "for j in ('Miss.','Mrs.','Ms.'):\n",
    "    for i in range(tit['Name'].size):\n",
    "        if j in tit['Name'][i]:\n",
    "            arr.append(1)\n",
    "        else:\n",
    "            arr.append(0)\n",
    "    arr=np.array(arr)\n",
    "    tx[j]=arr\n",
    "    arr=[]\n",
    "tit=pd.read_csv(\"./test.csv\")\n",
    "arr=[]\n",
    "for j in ('Miss.','Mrs.','Ms.'):\n",
    "    for i in range(tit['Name'].size):\n",
    "        if j in tit['Name'][i]:\n",
    "            arr.append(1)\n",
    "        else:\n",
    "            arr.append(0)\n",
    "    arr=np.array(arr)\n",
    "    te[j]=arr\n",
    "    arr=[]"
   ]
  },
  {
   "cell_type": "code",
   "execution_count": 28,
   "metadata": {},
   "outputs": [
    {
     "data": {
      "text/html": [
       "<div>\n",
       "<style scoped>\n",
       "    .dataframe tbody tr th:only-of-type {\n",
       "        vertical-align: middle;\n",
       "    }\n",
       "\n",
       "    .dataframe tbody tr th {\n",
       "        vertical-align: top;\n",
       "    }\n",
       "\n",
       "    .dataframe thead th {\n",
       "        text-align: right;\n",
       "    }\n",
       "</style>\n",
       "<table border=\"1\" class=\"dataframe\">\n",
       "  <thead>\n",
       "    <tr style=\"text-align: right;\">\n",
       "      <th></th>\n",
       "      <th>Pclass</th>\n",
       "      <th>Age</th>\n",
       "      <th>SibSp</th>\n",
       "      <th>Parch</th>\n",
       "      <th>Fare</th>\n",
       "      <th>Female</th>\n",
       "      <th>Male</th>\n",
       "      <th>C</th>\n",
       "      <th>Q</th>\n",
       "      <th>S</th>\n",
       "      <th>Cabin</th>\n",
       "      <th>Miss.</th>\n",
       "      <th>Mrs.</th>\n",
       "      <th>Ms.</th>\n",
       "    </tr>\n",
       "  </thead>\n",
       "  <tbody>\n",
       "    <tr>\n",
       "      <th>0</th>\n",
       "      <td>3</td>\n",
       "      <td>34.500000</td>\n",
       "      <td>0</td>\n",
       "      <td>0</td>\n",
       "      <td>7.8292</td>\n",
       "      <td>0.0</td>\n",
       "      <td>1.0</td>\n",
       "      <td>0.0</td>\n",
       "      <td>1.0</td>\n",
       "      <td>0.0</td>\n",
       "      <td>0</td>\n",
       "      <td>0</td>\n",
       "      <td>0</td>\n",
       "      <td>0</td>\n",
       "    </tr>\n",
       "    <tr>\n",
       "      <th>1</th>\n",
       "      <td>3</td>\n",
       "      <td>47.000000</td>\n",
       "      <td>1</td>\n",
       "      <td>0</td>\n",
       "      <td>7.0000</td>\n",
       "      <td>1.0</td>\n",
       "      <td>0.0</td>\n",
       "      <td>0.0</td>\n",
       "      <td>0.0</td>\n",
       "      <td>1.0</td>\n",
       "      <td>0</td>\n",
       "      <td>0</td>\n",
       "      <td>1</td>\n",
       "      <td>0</td>\n",
       "    </tr>\n",
       "    <tr>\n",
       "      <th>2</th>\n",
       "      <td>2</td>\n",
       "      <td>62.000000</td>\n",
       "      <td>0</td>\n",
       "      <td>0</td>\n",
       "      <td>9.6875</td>\n",
       "      <td>0.0</td>\n",
       "      <td>1.0</td>\n",
       "      <td>0.0</td>\n",
       "      <td>1.0</td>\n",
       "      <td>0.0</td>\n",
       "      <td>0</td>\n",
       "      <td>0</td>\n",
       "      <td>0</td>\n",
       "      <td>0</td>\n",
       "    </tr>\n",
       "    <tr>\n",
       "      <th>3</th>\n",
       "      <td>3</td>\n",
       "      <td>27.000000</td>\n",
       "      <td>0</td>\n",
       "      <td>0</td>\n",
       "      <td>8.6625</td>\n",
       "      <td>0.0</td>\n",
       "      <td>1.0</td>\n",
       "      <td>0.0</td>\n",
       "      <td>0.0</td>\n",
       "      <td>1.0</td>\n",
       "      <td>0</td>\n",
       "      <td>0</td>\n",
       "      <td>0</td>\n",
       "      <td>0</td>\n",
       "    </tr>\n",
       "    <tr>\n",
       "      <th>4</th>\n",
       "      <td>3</td>\n",
       "      <td>22.000000</td>\n",
       "      <td>1</td>\n",
       "      <td>1</td>\n",
       "      <td>12.2875</td>\n",
       "      <td>1.0</td>\n",
       "      <td>0.0</td>\n",
       "      <td>0.0</td>\n",
       "      <td>0.0</td>\n",
       "      <td>1.0</td>\n",
       "      <td>0</td>\n",
       "      <td>0</td>\n",
       "      <td>1</td>\n",
       "      <td>0</td>\n",
       "    </tr>\n",
       "    <tr>\n",
       "      <th>...</th>\n",
       "      <td>...</td>\n",
       "      <td>...</td>\n",
       "      <td>...</td>\n",
       "      <td>...</td>\n",
       "      <td>...</td>\n",
       "      <td>...</td>\n",
       "      <td>...</td>\n",
       "      <td>...</td>\n",
       "      <td>...</td>\n",
       "      <td>...</td>\n",
       "      <td>...</td>\n",
       "      <td>...</td>\n",
       "      <td>...</td>\n",
       "      <td>...</td>\n",
       "    </tr>\n",
       "    <tr>\n",
       "      <th>413</th>\n",
       "      <td>3</td>\n",
       "      <td>26.765666</td>\n",
       "      <td>0</td>\n",
       "      <td>0</td>\n",
       "      <td>8.0500</td>\n",
       "      <td>0.0</td>\n",
       "      <td>1.0</td>\n",
       "      <td>0.0</td>\n",
       "      <td>0.0</td>\n",
       "      <td>1.0</td>\n",
       "      <td>0</td>\n",
       "      <td>0</td>\n",
       "      <td>0</td>\n",
       "      <td>0</td>\n",
       "    </tr>\n",
       "    <tr>\n",
       "      <th>414</th>\n",
       "      <td>1</td>\n",
       "      <td>39.000000</td>\n",
       "      <td>0</td>\n",
       "      <td>0</td>\n",
       "      <td>108.9000</td>\n",
       "      <td>1.0</td>\n",
       "      <td>0.0</td>\n",
       "      <td>1.0</td>\n",
       "      <td>0.0</td>\n",
       "      <td>0.0</td>\n",
       "      <td>1</td>\n",
       "      <td>0</td>\n",
       "      <td>0</td>\n",
       "      <td>0</td>\n",
       "    </tr>\n",
       "    <tr>\n",
       "      <th>415</th>\n",
       "      <td>3</td>\n",
       "      <td>38.500000</td>\n",
       "      <td>0</td>\n",
       "      <td>0</td>\n",
       "      <td>7.2500</td>\n",
       "      <td>0.0</td>\n",
       "      <td>1.0</td>\n",
       "      <td>0.0</td>\n",
       "      <td>0.0</td>\n",
       "      <td>1.0</td>\n",
       "      <td>0</td>\n",
       "      <td>0</td>\n",
       "      <td>0</td>\n",
       "      <td>0</td>\n",
       "    </tr>\n",
       "    <tr>\n",
       "      <th>416</th>\n",
       "      <td>3</td>\n",
       "      <td>26.765666</td>\n",
       "      <td>0</td>\n",
       "      <td>0</td>\n",
       "      <td>8.0500</td>\n",
       "      <td>0.0</td>\n",
       "      <td>1.0</td>\n",
       "      <td>0.0</td>\n",
       "      <td>0.0</td>\n",
       "      <td>1.0</td>\n",
       "      <td>0</td>\n",
       "      <td>0</td>\n",
       "      <td>0</td>\n",
       "      <td>0</td>\n",
       "    </tr>\n",
       "    <tr>\n",
       "      <th>417</th>\n",
       "      <td>3</td>\n",
       "      <td>26.765666</td>\n",
       "      <td>1</td>\n",
       "      <td>1</td>\n",
       "      <td>22.3583</td>\n",
       "      <td>0.0</td>\n",
       "      <td>1.0</td>\n",
       "      <td>1.0</td>\n",
       "      <td>0.0</td>\n",
       "      <td>0.0</td>\n",
       "      <td>0</td>\n",
       "      <td>0</td>\n",
       "      <td>0</td>\n",
       "      <td>0</td>\n",
       "    </tr>\n",
       "  </tbody>\n",
       "</table>\n",
       "<p>418 rows × 14 columns</p>\n",
       "</div>"
      ],
      "text/plain": [
       "     Pclass        Age  SibSp  Parch      Fare  Female  Male    C    Q    S  \\\n",
       "0         3  34.500000      0      0    7.8292     0.0   1.0  0.0  1.0  0.0   \n",
       "1         3  47.000000      1      0    7.0000     1.0   0.0  0.0  0.0  1.0   \n",
       "2         2  62.000000      0      0    9.6875     0.0   1.0  0.0  1.0  0.0   \n",
       "3         3  27.000000      0      0    8.6625     0.0   1.0  0.0  0.0  1.0   \n",
       "4         3  22.000000      1      1   12.2875     1.0   0.0  0.0  0.0  1.0   \n",
       "..      ...        ...    ...    ...       ...     ...   ...  ...  ...  ...   \n",
       "413       3  26.765666      0      0    8.0500     0.0   1.0  0.0  0.0  1.0   \n",
       "414       1  39.000000      0      0  108.9000     1.0   0.0  1.0  0.0  0.0   \n",
       "415       3  38.500000      0      0    7.2500     0.0   1.0  0.0  0.0  1.0   \n",
       "416       3  26.765666      0      0    8.0500     0.0   1.0  0.0  0.0  1.0   \n",
       "417       3  26.765666      1      1   22.3583     0.0   1.0  1.0  0.0  0.0   \n",
       "\n",
       "    Cabin  Miss.  Mrs.  Ms.  \n",
       "0       0      0     0    0  \n",
       "1       0      0     1    0  \n",
       "2       0      0     0    0  \n",
       "3       0      0     0    0  \n",
       "4       0      0     1    0  \n",
       "..    ...    ...   ...  ...  \n",
       "413     0      0     0    0  \n",
       "414     1      0     0    0  \n",
       "415     0      0     0    0  \n",
       "416     0      0     0    0  \n",
       "417     0      0     0    0  \n",
       "\n",
       "[418 rows x 14 columns]"
      ]
     },
     "execution_count": 28,
     "metadata": {},
     "output_type": "execute_result"
    }
   ],
   "source": [
    "te"
   ]
  },
  {
   "cell_type": "raw",
   "metadata": {},
   "source": [
    "Preaparing training set and choosing best parameters"
   ]
  },
  {
   "cell_type": "code",
   "execution_count": 29,
   "metadata": {},
   "outputs": [],
   "source": [
    "from sklearn.ensemble import GradientBoostingClassifier\n",
    "Xtr,Xte,Ytr,Yte=train_test_split(tx.values,tt['Survived'].values,random_state=9)\n",
    "Ytr.shape=(Ytr.shape[0],1);\n",
    "Yte.shape=(Yte.shape[0],1);"
   ]
  },
  {
   "cell_type": "code",
   "execution_count": 30,
   "metadata": {},
   "outputs": [],
   "source": [
    "gbc=GradientBoostingClassifier(max_depth=4,n_estimators=850)\n",
    "sc=np.array([[0,0,0,0]])\n",
    "for n in range(40,91,4):\n",
    "    for a in np.arange(0.005,0.21,0.005):\n",
    "        gbc.set_params(learning_rate=a,n_estimators=n)\n",
    "        gbc.fit(Xtr,Ytr)\n",
    "        sc=np.vstack((sc,[n,a,gbc.score(Xtr,Ytr),gbc.score(Xte,Yte)]))"
   ]
  },
  {
   "cell_type": "code",
   "execution_count": 31,
   "metadata": {},
   "outputs": [],
   "source": [
    "sc=np.delete(sc,0,0)"
   ]
  },
  {
   "cell_type": "code",
   "execution_count": 32,
   "metadata": {},
   "outputs": [
    {
     "name": "stdout",
     "output_type": "stream",
     "text": [
      "0.8116591928251121\n",
      "109\n",
      "[48.          0.14        0.9251497   0.81165919]\n",
      "[[4.00000000e+01 5.00000000e-03 6.27245509e-01 5.82959641e-01]\n",
      " [4.00000000e+01 1.00000000e-02 8.20359281e-01 7.44394619e-01]\n",
      " [4.00000000e+01 1.50000000e-02 8.50299401e-01 7.66816143e-01]\n",
      " ...\n",
      " [8.80000000e+01 1.95000000e-01 9.67065868e-01 7.98206278e-01]\n",
      " [8.80000000e+01 2.00000000e-01 9.64071856e-01 7.93721973e-01]\n",
      " [8.80000000e+01 2.05000000e-01 9.71556886e-01 7.89237668e-01]]\n"
     ]
    }
   ],
   "source": [
    "foundarg=np.argmax(sc[:,3])\n",
    "print(np.max(sc[:,3]))\n",
    "print(foundarg)\n",
    "print(sc[foundarg])\n",
    "print(sc)"
   ]
  },
  {
   "cell_type": "raw",
   "metadata": {},
   "source": [
    "Predicting unknown set and testing on kaggle "
   ]
  },
  {
   "cell_type": "code",
   "execution_count": 33,
   "metadata": {},
   "outputs": [
    {
     "name": "stdout",
     "output_type": "stream",
     "text": [
      "0.8622754491017964 0.7623318385650224\n"
     ]
    }
   ],
   "source": [
    "gbc.set_params(learning_rate=0.01,n_estimators=90,max_depth=4)\n",
    "gbc.fit(Xtr,Ytr)\n",
    "print(gbc.score(Xtr,Ytr),gbc.score(Xte,Yte))"
   ]
  },
  {
   "cell_type": "code",
   "execution_count": 34,
   "metadata": {},
   "outputs": [],
   "source": [
    "df = pd.DataFrame((np.array([list(range(892,1310)),gbc.predict(te.values)])).T, columns = ['PassengerId','Survived']) "
   ]
  },
  {
   "cell_type": "raw",
   "metadata": {},
   "source": [
    "Comparing result with best score "
   ]
  },
  {
   "cell_type": "code",
   "execution_count": 35,
   "metadata": {},
   "outputs": [],
   "source": [
    "df.to_csv('./ans2.csv',index=False)"
   ]
  },
  {
   "cell_type": "code",
   "execution_count": 36,
   "metadata": {},
   "outputs": [],
   "source": [
    "test1=pd.read_csv(\"./best.csv\")\n",
    "test2=pd.read_csv(\"./ans2.csv\")"
   ]
  },
  {
   "cell_type": "code",
   "execution_count": 37,
   "metadata": {},
   "outputs": [],
   "source": [
    "for i in range(test1['Survived'].size):\n",
    "    if test1['Survived'][i]!=test2['Survived'][i]:\n",
    "        print(i)"
   ]
  },
  {
   "cell_type": "code",
   "execution_count": 38,
   "metadata": {},
   "outputs": [],
   "source": [
    "for i in range(test1['Survived'].size):\n",
    "    if test1['Survived'][i]!=test2['Survived'][i]:\n",
    "        print(i)"
   ]
  },
  {
   "cell_type": "code",
   "execution_count": null,
   "metadata": {},
   "outputs": [],
   "source": []
  }
 ],
 "metadata": {
  "kernelspec": {
   "display_name": "Python 3",
   "language": "python",
   "name": "python3"
  },
  "language_info": {
   "codemirror_mode": {
    "name": "ipython",
    "version": 3
   },
   "file_extension": ".py",
   "mimetype": "text/x-python",
   "name": "python",
   "nbconvert_exporter": "python",
   "pygments_lexer": "ipython3",
   "version": "3.6.10"
  }
 },
 "nbformat": 4,
 "nbformat_minor": 2
}
